{
 "cells": [
  {
   "cell_type": "markdown",
   "id": "f2b6e731",
   "metadata": {},
   "source": [
    "# Лабораторная работа 2.3 Работа со строками в языке Python\n",
    "\n",
    "**Цель работы:** * приобретение навыков по работе со строками при написании программ с\n",
    "помощью языка программирования Python версии 3.x.*\n",
    "\n",
    "## 10 Вариант"
   ]
  },
  {
   "cell_type": "markdown",
   "id": "fee478fb",
   "metadata": {},
   "source": [
    "***"
   ]
  },
  {
   "cell_type": "markdown",
   "id": "6377dff5",
   "metadata": {},
   "source": [
    "* **Индивидуальное 1**\n",
    "> Дано предложение. Вывести все буквы м и н в нем."
   ]
  },
  {
   "cell_type": "code",
   "execution_count": 23,
   "id": "74e9e118",
   "metadata": {
    "scrolled": false
   },
   "outputs": [
    {
     "name": "stdout",
     "output_type": "stream",
     "text": [
      "Введите предложение: метались в нас словами\n",
      "метались в нас словами\n",
      "Количество букв 'м' и 'н' в предложении 2 и 1 \n"
     ]
    }
   ],
   "source": [
    "import math\n",
    "\n",
    "s1 = input(\"Введите предложение: \")\n",
    "length = len(s1)\n",
    "print(s1)\n",
    "\n",
    "s1out = 0\n",
    "s2out = 0\n",
    "for j in s1:\n",
    "    if (j == 'м'):\n",
    "        s1out += 1\n",
    "    elif (j == 'н'):\n",
    "        s2out += 1\n",
    "        \n",
    "print(f\"Количество букв 'м' и 'н' в предложении {s1out} и {s2out} \")"
   ]
  },
  {
   "cell_type": "markdown",
   "id": "26ef9668",
   "metadata": {},
   "source": [
    "***"
   ]
  },
  {
   "cell_type": "markdown",
   "id": "91ddbd80",
   "metadata": {},
   "source": [
    "* **Индивидуальное 2**\n",
    ">Дана последовательность слов. Проверить, правильно ли в ней записаны буквосочетания\n",
    "жи и ши."
   ]
  },
  {
   "cell_type": "code",
   "execution_count": 10,
   "id": "1e41e324",
   "metadata": {},
   "outputs": [
    {
     "name": "stdout",
     "output_type": "stream",
     "text": [
      "Ввести последовательность слов: жышы шы\n",
      "До:  жышы шы\n",
      "После:  жиши ши\n"
     ]
    }
   ],
   "source": [
    "Str = input ('Ввести последовательность слов: ')\n",
    "\n",
    "print(\"До: \", Str)\n",
    "\n",
    "Str = Str.replace('жы','жи')\n",
    "Str = Str.replace('шы','ши')\n",
    "\n",
    "print(\"После: \", Str)"
   ]
  },
  {
   "cell_type": "markdown",
   "id": "35917428",
   "metadata": {},
   "source": [
    "***"
   ]
  },
  {
   "cell_type": "markdown",
   "id": "06c32233",
   "metadata": {},
   "source": [
    "* **Индивидуальное 3**\n",
    ">Дано слово, оканчивающее символом «.». Вставить заданную букву после первой буквы и"
   ]
  },
  {
   "cell_type": "code",
   "execution_count": 2,
   "id": "6371ea09",
   "metadata": {},
   "outputs": [
    {
     "name": "stdout",
     "output_type": "stream",
     "text": [
      "Ввести слово с точкой в конце и буквой(-ами) и: словами.\n",
      "Слово до:  словами.\n",
      "Ввести букву, которая будет вставляться после первой буквы и: е\n",
      "Символ:  е\n",
      "Результат изменений:  словамие.\n"
     ]
    }
   ],
   "source": [
    "import sys\n",
    "\n",
    "Word = input ('Ввести слово с точкой в конце и буквой(-ами) и: ')\n",
    "\n",
    "if Word.find(\".\") == -1:\n",
    "     print(\"Ошибка! Нет в слове символа '.' \")\n",
    "    \n",
    "     sys.exit(\"Error\")\n",
    "else:\n",
    "    \n",
    "    print(\"Слово до: \", Word)\n",
    "Symb = input ('Ввести букву, которая будет вставляться после первой буквы и: ')\n",
    "print(\"Символ: \", Symb)\n",
    "\n",
    "u = Word.find('и')\n",
    "\n",
    "nWord = Word[:u+1] + Symb + Word[u+1:]\n",
    "\n",
    "print(\"Результат изменений: \", nWord)"
   ]
  },
  {
   "cell_type": "markdown",
   "id": "598c18a0",
   "metadata": {},
   "source": [
    "***"
   ]
  },
  {
   "cell_type": "markdown",
   "id": "84ea2c2e",
   "metadata": {},
   "source": [
    "* **Индивидуальное 4**\n",
    "> Даны три слова. Напечатать только те буквы слов, которые есть лишь в одном из слов.\n",
    "Рассмотреть два варианта:\n",
    "> * повторяющиеся буквы каждого слова рассматриваются;\n",
    "> * повторяющиеся буквы каждого слова не рассматриваются.\n"
   ]
  },
  {
   "cell_type": "code",
   "execution_count": 10,
   "id": "f97d2a35",
   "metadata": {
    "scrolled": true
   },
   "outputs": [
    {
     "name": "stdout",
     "output_type": "stream",
     "text": [
      "Слово 1:жить\n",
      "Слово 2:жить\n",
      "Слово 3:вижу\n",
      "ву"
     ]
    }
   ],
   "source": [
    "#НЕ РАССМАТРИВАЮТСЯ\n",
    "\n",
    "#Ввод трех слов\n",
    "w1 = input(\"Слово 1:\" )\n",
    "w2 = input(\"Слово 2:\" )\n",
    "w3 = input(\"Слово 3:\" )\n",
    "\n",
    "#Статистика по буквам\n",
    "cnt = {}\n",
    "for i in w1:\n",
    "    if (i not in cnt):\n",
    "        cnt[i] = 0\n",
    "    cnt[i] = cnt[i]+1\n",
    "for i in w2:\n",
    "    if (i not in cnt):\n",
    "        cnt[i] = 0\n",
    "    cnt[i] = cnt[i]+1\n",
    "for i in w3:\n",
    "    if (i not in cnt):\n",
    "        cnt[i] = 0\n",
    "    cnt[i] = cnt[i]+1\n",
    "\n",
    "#Проверяем все буквы\n",
    "#end для вывода в одну строку букв слова\n",
    "for i in w1:\n",
    "    if (cnt[i] == 1): #Если равно 1, то эта буква есть только тут\n",
    "        print( i, end = '' )\n",
    "for i in w2:\n",
    "    if (cnt[i] == 1): #Если равно 1, то эта буква есть только тут\n",
    "        print( i, end = '' )\n",
    "for i in w3:\n",
    "    if (cnt[i] == 1): #Если равно 1, то эта буква есть только тут\n",
    "        print( i, end = '' )"
   ]
  },
  {
   "cell_type": "code",
   "execution_count": 9,
   "id": "bfc17437",
   "metadata": {},
   "outputs": [
    {
     "name": "stdout",
     "output_type": "stream",
     "text": [
      "Word 1:жить\n",
      "Word 2:жить\n",
      "Word 3:вижу\n",
      "жить\n",
      "\n",
      "ву\n"
     ]
    }
   ],
   "source": [
    "#РАССМАТРИВАЮТСЯ\n",
    "\n",
    "#Ввод трех слов\n",
    "w1 = input(\"Word 1:\" )\n",
    "w2 = input(\"Word 2:\" )\n",
    "w3 = input(\"Word 3:\" )\n",
    "\n",
    "#Статистика по буквам\n",
    "cnt = {}\n",
    "for i in w1:\n",
    "    if (i not in cnt):\n",
    "        cnt[i] = 0\n",
    "        print( i, end = '' )#Буква встретилась первый раз (остальные разы - повторы)\n",
    "    cnt[i] = cnt[i]+1\n",
    "#print для отступа для вывода в разные строки буквы\n",
    "print()\n",
    "for i in w2:\n",
    "    if (i not in cnt):\n",
    "        cnt[i] = 0\n",
    "        print( i, end = '' )#Буква встретилась первый раз (остальные разы - повторы)\n",
    "    cnt[i] = cnt[i]+1\n",
    "print()\n",
    "for i in w3:\n",
    "    if (i not in cnt):\n",
    "        cnt[i] = 0\n",
    "        print( i, end = '' )#Буква встретилась первый раз (остальные разы - повторы)\n",
    "    cnt[i] = cnt[i]+1\n",
    "print()"
   ]
  },
  {
   "cell_type": "code",
   "execution_count": null,
   "id": "14fbe3d9",
   "metadata": {},
   "outputs": [],
   "source": []
  }
 ],
 "metadata": {
  "kernelspec": {
   "display_name": "Python 3 (ipykernel)",
   "language": "python",
   "name": "python3"
  },
  "language_info": {
   "codemirror_mode": {
    "name": "ipython",
    "version": 3
   },
   "file_extension": ".py",
   "mimetype": "text/x-python",
   "name": "python",
   "nbconvert_exporter": "python",
   "pygments_lexer": "ipython3",
   "version": "3.9.7"
  }
 },
 "nbformat": 4,
 "nbformat_minor": 5
}
